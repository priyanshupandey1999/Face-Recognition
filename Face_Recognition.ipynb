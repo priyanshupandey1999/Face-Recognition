{
 "cells": [
  {
   "cell_type": "code",
   "execution_count": null,
   "metadata": {},
   "outputs": [
    {
     "name": "stdout",
     "output_type": "stream",
     "text": [
      "[[[ 75  98  89]\n",
      "  [ 76  99  90]\n",
      "  [ 76 100  88]\n",
      "  ...\n",
      "  [156 155 126]\n",
      "  [157 156 127]\n",
      "  [157 156 127]]\n",
      "\n",
      " [[ 71  95  88]\n",
      "  [ 74  98  91]\n",
      "  [ 77 100  91]\n",
      "  ...\n",
      "  [154 154 127]\n",
      "  [155 155 128]\n",
      "  [154 154 127]]\n",
      "\n",
      " [[ 73  95  88]\n",
      "  [ 76  98  91]\n",
      "  [ 77  99  92]\n",
      "  ...\n",
      "  [155 155 128]\n",
      "  [155 155 128]\n",
      "  [155 155 128]]\n",
      "\n",
      " ...\n",
      "\n",
      " [[ 78  63  89]\n",
      "  [ 79  64  90]\n",
      "  [ 78  66  91]\n",
      "  ...\n",
      "  [109 102 104]\n",
      "  [107 103 104]\n",
      "  [106 102 103]]\n",
      "\n",
      " [[ 78  63  89]\n",
      "  [ 79  64  90]\n",
      "  [ 80  65  91]\n",
      "  ...\n",
      "  [107 100 102]\n",
      "  [106  99 101]\n",
      "  [104  97  99]]\n",
      "\n",
      " [[ 77  62  88]\n",
      "  [ 79  64  90]\n",
      "  [ 81  65  94]\n",
      "  ...\n",
      "  [106  99 101]\n",
      "  [103  96  98]\n",
      "  [102  95  97]]]\n"
     ]
    }
   ],
   "source": [
    "import numpy as np\n",
    "import cv2 as cv\n",
    "face_cascade=cv.CascadeClassifier(\"haarcascade_frontalface_default.xml\")\n",
    "video=cv.VideoCapture(0,cv.CAP_DSHOW)\n",
    "while True:\n",
    "    check, frame = video.read()\n",
    "    print(frame)  # just to see the how numpy array is changing with image\n",
    "    gray_image = cv.cvtColor(frame, cv.COLOR_BGR2GRAY)\n",
    "    faces = face_cascade.detectMultiScale(gray_image, scaleFactor=1.05, minNeighbors=5)\n",
    "    for x, y, w, h in faces:\n",
    "        frame = cv.rectangle(frame, (x, y), (x + w, y + h), (0, 255, 0), 3)\n",
    "        print(x,y,w,h)\n",
    "    resized = cv.resize(frame, (int(frame.shape[1] / 2), int(frame.shape[0] / 2)))\n",
    "    cv.imshow(\"Gray\", resized)\n",
    "    key=cv.waitKey(1)\n",
    "    if key==ord('q'):\n",
    "        break\n",
    "video.release()\n",
    "cv.destroyAllWindows()"
   ]
  },
  {
   "cell_type": "code",
   "execution_count": null,
   "metadata": {},
   "outputs": [],
   "source": []
  }
 ],
 "metadata": {
  "kernelspec": {
   "display_name": "Python 3",
   "language": "python",
   "name": "python3"
  },
  "language_info": {
   "codemirror_mode": {
    "name": "ipython",
    "version": 3
   },
   "file_extension": ".py",
   "mimetype": "text/x-python",
   "name": "python",
   "nbconvert_exporter": "python",
   "pygments_lexer": "ipython3",
   "version": "3.7.6"
  }
 },
 "nbformat": 4,
 "nbformat_minor": 4
}
